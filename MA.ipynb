{
 "cells": [
  {
   "cell_type": "code",
   "execution_count": null,
   "id": "8e5725e4",
   "metadata": {},
   "outputs": [],
   "source": [
    "import yfinance as yf\n",
    "import matplotlib.pyplot as plt\n",
    "import numpy as np\n",
    "import pandas as pd\n"
   ]
  },
  {
   "cell_type": "code",
   "execution_count": null,
   "id": "291df5ad",
   "metadata": {},
   "outputs": [],
   "source": [
    "TICKER = 'SPY'\n",
    "WINDOW = 3\n",
    "FAST = 10\n",
    "SLOW = 27\n",
    "\n",
    "def get_data():\n",
    "    df = yf.download(TICKER, period='1y')#, auto_adjust=False)\n",
    "    df.columns = df.columns.get_level_values(0)\n",
    "    \n",
    "    return df\n",
    "\n",
    "def add_moving_averages(df, fast, slow):\n",
    "    df[f'{FAST}_ma'] = df['Close'].rolling(fast).mean()\n",
    "    df[f'{SLOW}_ma'] = df['Close'].rolling(slow).mean()\n",
    "    return df.dropna()\n",
    "\n",
    "df = get_data()\n",
    "df = add_moving_averages(df, FAST, SLOW)\n",
    "\n",
    "df\n"
   ]
  },
  {
   "cell_type": "code",
   "execution_count": null,
   "id": "32118a6d",
   "metadata": {},
   "outputs": [],
   "source": [
    "def add_strategy(df):\n",
    "    df.columns = df.columns.get_level_values(0)\n",
    "    df['Strategy'] = np.where(df['Close'] > df['MA'], 1, -1)\n",
    "    df['Strategy'] = df['Strategy'].shift(1)\n",
    "    return df\n",
    "\n",
    "def test_strategy(df):\n",
    "    df['Asset_Culmulative']  = np.cumprod(1+df['Close'].pct_change()) -1\n",
    "    df['Strategy_Culmulative'] = np.cumprod(1+df['Close'].pct_change() * df['Strategy']) -1\n",
    "    \n",
    "    plt.plot(df['Asset_Culmulative'])\n",
    "    plt.plot(df['Strategy_Culmulative'])\n",
    "    plt.title(f'{TICKER} Close vs Moving Average')\n",
    "    plt.legend([f'{TICKER} Close Price', f'{WINDOW} Moving Average'])\n",
    "    \n",
    "    return df\n",
    "\n",
    "def main():\n",
    "    df = get_data()\n",
    "    df = add_strategy(df)\n",
    "    df = test_strategy(df)\n",
    "    return df\n",
    "\n",
    "main()"
   ]
  }
 ],
 "metadata": {
  "kernelspec": {
   "display_name": ".myenvEp1 (3.11.8)",
   "language": "python",
   "name": "python3"
  },
  "language_info": {
   "codemirror_mode": {
    "name": "ipython",
    "version": 3
   },
   "file_extension": ".py",
   "mimetype": "text/x-python",
   "name": "python",
   "nbconvert_exporter": "python",
   "pygments_lexer": "ipython3",
   "version": "3.11.8"
  }
 },
 "nbformat": 4,
 "nbformat_minor": 5
}
